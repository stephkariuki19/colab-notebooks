{
  "nbformat": 4,
  "nbformat_minor": 0,
  "metadata": {
    "colab": {
      "provenance": [],
      "authorship_tag": "ABX9TyP8gq6cgIH2nRvPBLeD1fZA",
      "include_colab_link": true
    },
    "kernelspec": {
      "name": "python3",
      "display_name": "Python 3"
    },
    "language_info": {
      "name": "python"
    }
  },
  "cells": [
    {
      "cell_type": "markdown",
      "metadata": {
        "id": "view-in-github",
        "colab_type": "text"
      },
      "source": [
        "<a href=\"https://colab.research.google.com/github/stephkariuki19/colab-notebooks/blob/main/Copy_of_CLASS_EXE_CLASSIFICATION_KNN.ipynb\" target=\"_parent\"><img src=\"https://colab.research.google.com/assets/colab-badge.svg\" alt=\"Open In Colab\"/></a>"
      ]
    },
    {
      "cell_type": "code",
      "execution_count": null,
      "metadata": {
        "id": "fT08RFdlXGIM"
      },
      "outputs": [],
      "source": [
        "from google.colab import files\n",
        "uploaded = files.upload()\n",
        "import pandas as pd\n",
        "\n",
        "\n",
        "df = pd.read_csv('new_filtered_data2.csv')"
      ]
    },
    {
      "cell_type": "code",
      "source": [
        "df.head()"
      ],
      "metadata": {
        "id": "SrDEezGyXTTI"
      },
      "execution_count": null,
      "outputs": []
    },
    {
      "cell_type": "code",
      "source": [],
      "metadata": {
        "id": "zYoD_VCWP14R"
      },
      "execution_count": null,
      "outputs": []
    },
    {
      "cell_type": "code",
      "source": [
        "unique_names = df['Name'].unique()\n",
        "\n",
        "# Print or display the unique values\n",
        "print(unique_names)"
      ],
      "metadata": {
        "id": "8Wx9_AdJYIyP"
      },
      "execution_count": null,
      "outputs": []
    },
    {
      "cell_type": "code",
      "source": [
        "\n",
        "code_mapping = {code: idx for idx, code in enumerate(df['Code'].unique())}\n",
        "\n",
        "# Map the string values to numerical codes\n",
        "df['Code'] = df['Code'].map(code_mapping)\n",
        "\n",
        "largest_value = df['Code'].max()\n",
        "\n",
        "print(\"The largest value in the 'Code' column is:\", largest_value)\n",
        "# Convert the 'date' column to a datetime object\n",
        "df['date'] = pd.to_datetime(df['Date'], format='%d-%b-%y')\n",
        "\n",
        "# Extract relevant date features\n",
        "df['day'] = df['date'].dt.day\n",
        "df['month'] = df['date'].dt.month\n",
        "df['year'] = df['date'].dt.year\n",
        "\n",
        "\n",
        "df['day_of_week'] = df['date'].dt.dayofweek\n",
        "df['quarter'] = df['date'].dt.quarter\n",
        "\n",
        "# Drop the original 'date' column\n",
        "df = df.drop('Date', axis=1)\n",
        "\n",
        " # view the loaded the data\n",
        "df.head()\n"
      ],
      "metadata": {
        "id": "FZUQ4ejlhydG"
      },
      "execution_count": null,
      "outputs": []
    },
    {
      "cell_type": "code",
      "source": [
        "df = df.drop('date', axis=1)\n",
        "\n",
        "df.head()"
      ],
      "metadata": {
        "id": "TXgBHRe7h4dW"
      },
      "execution_count": null,
      "outputs": []
    },
    {
      "cell_type": "code",
      "source": [
        "print(df.dtypes)"
      ],
      "metadata": {
        "id": "1qKVGRqHh649"
      },
      "execution_count": null,
      "outputs": []
    },
    {
      "cell_type": "code",
      "source": [
        "\n",
        "\n",
        "df['Change'] = pd.to_numeric(df['Change'], errors='coerce')\n",
        "\n",
        "\n",
        "df['DecisionLabel'] = (df['Change'] > 0).astype(int)\n",
        "df.head()\n"
      ],
      "metadata": {
        "id": "CmqKVwwDiNdn"
      },
      "execution_count": null,
      "outputs": []
    },
    {
      "cell_type": "code",
      "source": [
        "columns_to_replace = ['Volume', 'Change', 'Change%']\n",
        "\n",
        "\n",
        "df[columns_to_replace] = df[columns_to_replace].replace('-', '0', regex=True)\n",
        "df[columns_to_replace] = df[columns_to_replace].replace(',', '', regex=True)\n",
        "df[columns_to_replace] = df[columns_to_replace].replace('%', '', regex=True)\n",
        "\n",
        "# Convert the columns to numeric type\n",
        "df[columns_to_replace] = df[columns_to_replace].astype(float)\n",
        "\n",
        "\n",
        "for col in columns_to_replace:\n",
        "    non_numeric_values = df[col].loc[~df[col].apply(lambda x: isinstance(x, (int, float)))].unique()\n",
        "    if non_numeric_values.size > 0:\n",
        "        print(f\"Non-numeric values in column '{col}': {non_numeric_values}\")\n",
        "df.head()"
      ],
      "metadata": {
        "id": "hYVeAdB0Nkyh"
      },
      "execution_count": null,
      "outputs": []
    },
    {
      "cell_type": "code",
      "source": [
        "columns_to_replace = ['Volume', 'Change', 'Change%']\n",
        "\n",
        "# Remove '-' with 0 and remove commas in the specified columns\n",
        "df[columns_to_replace] = df[columns_to_replace].replace(['-', ','], '0', regex=True)\n",
        "\n",
        "# Convert the columns to numeric type\n",
        "df[columns_to_replace] = df[columns_to_replace].astype(float)\n",
        "\n",
        "\n",
        "df['Change'].fillna(0, inplace=True)\n",
        "\n",
        "# Check for any remaining non-numeric values in these columns\n",
        "for col in columns_to_replace:\n",
        "    non_numeric_values = df[col].loc[~df[col].apply(lambda x: isinstance(x, (int, float)))].unique()\n",
        "    if non_numeric_values.size > 0:\n",
        "        print(f\"Non-numeric values in column '{col}': {non_numeric_values}\")\n",
        "df.head()\n"
      ],
      "metadata": {
        "id": "MgDwsXMQjf5Y"
      },
      "execution_count": null,
      "outputs": []
    },
    {
      "cell_type": "code",
      "source": [
        "#Putting Feature Variable to X and Target variable to y.\n",
        "#feature variables\n",
        "\n",
        "columns_to_drop = ['DecisionLabel','Name','Adjusted Price','Change%']\n",
        "\n",
        "init_X_feature = df.drop(columns=columns_to_drop, axis=1).values\n",
        "\n",
        "# Target variable\n",
        "init_y_target = df['DecisionLabel'].values\n",
        "\n",
        "# Filtering rows where 'Code' column equals 0\n",
        "zero_code_rows = df[df['Code'] == 7]\n",
        "\n",
        "# Creating X_feature and y_target from the filtered data\n",
        "X_feature = zero_code_rows.drop(columns=columns_to_drop, axis=1).values\n",
        "y_target = zero_code_rows['DecisionLabel'].values\n",
        "\n",
        "\n",
        "# # Creating X_feature and y_target from all data\n",
        "# X_feature = init_X_feature\n",
        "# y_target = init_y_target"
      ],
      "metadata": {
        "id": "J1xkBRS5OS6K"
      },
      "execution_count": null,
      "outputs": []
    },
    {
      "cell_type": "code",
      "source": [
        "from sklearn.model_selection import train_test_split\n",
        "\n",
        "# Splitting the data into train and test\n",
        "X_train, X_test, y_train, y_test = train_test_split(X_feature, y_target, train_size=0.7, random_state=42)\n",
        "X_train.shape, X_test.shape"
      ],
      "metadata": {
        "colab": {
          "base_uri": "https://localhost:8080/"
        },
        "id": "3EgWiUl6Pobz",
        "outputId": "92c83673-8bba-4df1-d6fa-5dd48fd8aef6"
      },
      "execution_count": null,
      "outputs": [
        {
          "output_type": "execute_result",
          "data": {
            "text/plain": [
              "((71, 14), (31, 14))"
            ]
          },
          "metadata": {},
          "execution_count": 72
        }
      ]
    },
    {
      "cell_type": "code",
      "source": [
        "from sklearn.neighbors import KNeighborsClassifier\n",
        "\n",
        "# Create KNN classifier\n",
        "knn_classifier = KNeighborsClassifier(n_neighbors=3)\n",
        "\n",
        "# Train the classifier\n",
        "knn_classifier.fit(X_train, y_train)\n",
        "\n",
        "# Make predictions on the test set\n",
        "y_pred = knn_classifier.predict(X_test)"
      ],
      "metadata": {
        "id": "55MxqHuNEpEW"
      },
      "execution_count": null,
      "outputs": []
    },
    {
      "cell_type": "code",
      "source": [
        "from sklearn.metrics import accuracy_score, precision_score, recall_score, confusion_matrix\n",
        "\n",
        "accuracy = accuracy_score(y_test, y_pred)\n",
        "precision = precision_score(y_test, y_pred, average='weighted', zero_division=0)\n",
        "recall = recall_score(y_test, y_pred, average='weighted', zero_division=0)\n",
        "conf_matrix = confusion_matrix(y_test, y_pred)\n",
        "\n",
        "# Display the metrics\n",
        "print(f\"Accuracy: {accuracy}\")\n",
        "print(f\"Precision: {precision}\")\n",
        "print(f\"Recall: {recall}\")\n",
        "print(f\"Confusion Matrix:\\n{conf_matrix}\")\n"
      ],
      "metadata": {
        "colab": {
          "base_uri": "https://localhost:8080/"
        },
        "id": "tf6ryXU_U9bw",
        "outputId": "0620ff8a-3e18-4f46-c638-94939a16bd17"
      },
      "execution_count": null,
      "outputs": [
        {
          "output_type": "stream",
          "name": "stdout",
          "text": [
            "Accuracy: 0.7419354838709677\n",
            "Precision: 0.7433380084151472\n",
            "Recall: 0.7419354838709677\n",
            "Confusion Matrix:\n",
            "[[17  2]\n",
            " [ 6  6]]\n"
          ]
        }
      ]
    },
    {
      "cell_type": "code",
      "source": [
        "import matplotlib.pyplot as plt\n",
        "import seaborn as sns\n",
        "from sklearn.metrics import confusion_matrix\n",
        "\n",
        "\n",
        "# Plotting the confusion matrix\n",
        "plt.figure(figsize=(8, 6))\n",
        "sns.heatmap(conf_matrix, annot=True, cmap='Blues', fmt='d', cbar=False)\n",
        "\n",
        "# Adding labels, title, and ticks\n",
        "plt.xlabel('Predicted Labels')\n",
        "plt.ylabel('True Labels')\n",
        "plt.title('Confusion Matrix')\n",
        "plt.xticks(ticks=[0.5, 1.5], labels=['Class 0', 'Class 1'])\n",
        "plt.yticks(ticks=[0.5, 1.5], labels=['Class 0', 'Class 1'])\n",
        "\n",
        "plt.show()"
      ],
      "metadata": {
        "colab": {
          "base_uri": "https://localhost:8080/",
          "height": 564
        },
        "id": "HLNdwf7wHCnd",
        "outputId": "86593e7c-5cc5-42d5-ce47-d6d78e027214"
      },
      "execution_count": null,
      "outputs": [
        {
          "output_type": "display_data",
          "data": {
            "text/plain": [
              "<Figure size 800x600 with 1 Axes>"
            ],
            "image/png": "[encoded data removed]"
          },
          "metadata": {}
        }
      ]
    },
    {
      "cell_type": "code",
      "source": [
        "from sklearn.neighbors import KNeighborsClassifier\n",
        "from sklearn.metrics import roc_curve, auc\n",
        "import matplotlib.pyplot as plt\n",
        "\n",
        "\n",
        "# Make predictions on the test set\n",
        "y_pred_prob = knn_classifier.predict_proba(X_test)[:, 1]\n",
        "\n",
        "# Compute ROC curve and AUC\n",
        "fpr, tpr, thresholds = roc_curve(y_test, y_pred_prob)\n",
        "roc_auc = auc(fpr, tpr)\n",
        "\n",
        "# Plot ROC curve\n",
        "plt.figure(figsize=(8, 6))\n",
        "plt.plot(fpr, tpr, color='blue', lw=2, label='ROC curve (AUC = %0.2f)' % roc_auc)\n",
        "plt.plot([0, 1], [0, 1], color='gray', linestyle='--')\n",
        "plt.xlabel('False Positive Rate')\n",
        "plt.ylabel('True Positive Rate')\n",
        "plt.title('Receiver Operating Characteristic (ROC) Curve')\n",
        "plt.legend(loc='lower right')\n",
        "plt.show()\n",
        "\n",
        "print(f\"AUC score: {roc_auc:.2f}\")\n"
      ],
      "metadata": {
        "colab": {
          "base_uri": "https://localhost:8080/",
          "height": 581
        },
        "id": "tjs_v_qjL-fQ",
        "outputId": "7d10abe4-cc67-4857-c510-f9ed27572f47"
      },
      "execution_count": null,
      "outputs": [
        {
          "output_type": "display_data",
          "data": {
            "text/plain": [
              "<Figure size 800x600 with 1 Axes>"
            ],
            "image/png": "[encoded data removed]"
          },
          "metadata": {}
        },
        {
          "output_type": "stream",
          "name": "stdout",
          "text": [
            "AUC score: 0.86\n"
          ]
        }
      ]
    }
  ]
}